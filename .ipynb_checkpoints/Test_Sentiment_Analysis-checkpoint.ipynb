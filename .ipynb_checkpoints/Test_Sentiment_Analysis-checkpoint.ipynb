{
 "cells": [
  {
   "cell_type": "markdown",
   "id": "d6728dd1-de04-48d2-b7bf-2c8f508156f6",
   "metadata": {},
   "source": [
    "# Proyek Pengembangan ML: [Analisis Sentimen]\n",
    "- **Nama:** [Salsabila Rizka Maulidina]\n",
    "- **Email:** [a004xbm448@devacademy.id atau salsaajadehhh@gmail.com]\n",
    "- **ID Dicoding:** [a004xbm448]"
   ]
  },
  {
   "cell_type": "markdown",
   "id": "d312cec7-37b4-457e-882e-b41d82d02b15",
   "metadata": {},
   "source": [
    "# **1. Import Library**"
   ]
  },
  {
   "cell_type": "code",
   "execution_count": 1,
   "id": "506140c2-dee8-4ebc-af2b-c8ddb8e9f967",
   "metadata": {},
   "outputs": [],
   "source": [
    "import numpy as np\n",
    "import pickle\n",
    "from tensorflow.keras.models import load_model\n",
    "from tensorflow.keras.preprocessing.sequence import pad_sequences"
   ]
  },
  {
   "cell_type": "markdown",
   "id": "5c10c8c1-ccad-4371-85b3-282c6e4c2960",
   "metadata": {},
   "source": [
    "# **2. Trial with Model 1: LSTM + Tokenizer & Padding + 80/20 split**"
   ]
  },
  {
   "cell_type": "markdown",
   "id": "ca9f46ce-e329-4bc1-8ef5-114be9a1c861",
   "metadata": {},
   "source": [
    "### Load the Saved Model, Tokenizer, Maxlen and Label Encoder"
   ]
  },
  {
   "cell_type": "code",
   "execution_count": 2,
   "id": "12c32b42-8b2f-4a09-bd9d-5262b4a27957",
   "metadata": {},
   "outputs": [
    {
     "name": "stderr",
     "output_type": "stream",
     "text": [
      "WARNING:absl:Compiled the loaded model, but the compiled metrics have yet to be built. `model.compile_metrics` will be empty until you train or evaluate the model.\n"
     ]
    },
    {
     "name": "stdout",
     "output_type": "stream",
     "text": [
      "==== Model loaded ====\n",
      "==== Tokenizer loaded ====\n",
      "==== Label encoder loaded ====\n",
      "==== Maxlen loaded ====\n"
     ]
    }
   ],
   "source": [
    "# Load model\n",
    "model = load_model('lstm_model.h5')\n",
    "print(\"==== Model loaded ====\")\n",
    "\n",
    "# Load tokenizer\n",
    "with open('tokenizer.pickle', 'rb') as handle:\n",
    "    tokenizer = pickle.load(handle)\n",
    "print(\"==== Tokenizer loaded ====\")\n",
    "\n",
    "# Load label encoder\n",
    "with open('label_encoder.pickle', 'rb') as file:\n",
    "    label_encoder = pickle.load(file)\n",
    "print(\"==== Label encoder loaded ====\")\n",
    "\n",
    "# Load maxlen\n",
    "with open('maxlen.pickle', 'rb') as file:\n",
    "    maxlen = pickle.load(file)\n",
    "print(\"==== Maxlen loaded ====\")"
   ]
  },
  {
   "cell_type": "markdown",
   "id": "46cf40a0-2894-4274-bcd0-3e2b8fd85921",
   "metadata": {},
   "source": [
    "### Function"
   ]
  },
  {
   "cell_type": "code",
   "execution_count": 3,
   "id": "2c5bdbee-c515-4ded-8551-cfeebbc52606",
   "metadata": {},
   "outputs": [],
   "source": [
    "def predict_sentiment(texts):     # Define function to predict sentiment from input texts\n",
    "    sequences = tokenizer.texts_to_sequences(texts)     # Convert texts to sequences of integers\n",
    "    padded = pad_sequences(sequences, maxlen=maxlen)     # Pad sequences to a fixed length\n",
    "    predictions = model.predict(padded)     # Get model predictions\n",
    "    predicted_classes = np.argmax(predictions, axis=1)     # Get class with highest probability\n",
    "    results = label_encoder.inverse_transform(predicted_classes)     # Decode class labels to original form\n",
    "    return results     # Return predicted sentiment labels"
   ]
  },
  {
   "cell_type": "markdown",
   "id": "70cfaac9-6827-4b2c-9451-8c77126dc8e5",
   "metadata": {},
   "source": [
    "### Try to predict new comment"
   ]
  },
  {
   "cell_type": "code",
   "execution_count": 4,
   "id": "517a353c-f8f9-48b8-8886-92ab1eab45e6",
   "metadata": {},
   "outputs": [
    {
     "name": "stdout",
     "output_type": "stream",
     "text": [
      "\u001b[1m1/1\u001b[0m \u001b[32m━━━━━━━━━━━━━━━━━━━━\u001b[0m\u001b[37m\u001b[0m \u001b[1m0s\u001b[0m 364ms/step\n"
     ]
    }
   ],
   "source": [
    "# Input the new comment\n",
    "sample_texts_forlstm = [\n",
    "    \"So bad\",\n",
    "    \"I do not know\",\n",
    "    \"So imprassive, i like this song\"\n",
    "]\n",
    "\n",
    "# Predict new comment\n",
    "results = predict_sentiment(sample_texts_forlstm)"
   ]
  },
  {
   "cell_type": "code",
   "execution_count": 5,
   "id": "d320a7b1-e188-41e3-a064-cb8066646519",
   "metadata": {},
   "outputs": [
    {
     "name": "stdout",
     "output_type": "stream",
     "text": [
      "\"So bad\" → Prediksi: positive\n",
      "\"I do not know\" → Prediksi: neutral\n",
      "\"So imprassive, i like this song\" → Prediksi: positive\n"
     ]
    }
   ],
   "source": [
    "# Display the result\n",
    "for text, label in zip(sample_texts_forlstm, results):\n",
    "    print(f\"\\\"{text}\\\" → Prediksi: {label}\")"
   ]
  },
  {
   "cell_type": "markdown",
   "id": "26bab11b-ac1a-4dd7-b5b6-b8e9743f4551",
   "metadata": {},
   "source": [
    "# **3. Trial with Model 2: Logistic Regression + TF-IDC + 90/10 split**"
   ]
  },
  {
   "cell_type": "markdown",
   "id": "9f6787a5-12f9-43d3-afa0-98ae862546d7",
   "metadata": {},
   "source": [
    "### Load the Saved Model, Vectorizer, and Label Encoder"
   ]
  },
  {
   "cell_type": "code",
   "execution_count": 6,
   "id": "fd403be2-f87a-479a-b847-9207936fb5db",
   "metadata": {},
   "outputs": [],
   "source": [
    "# Load model Logistic Regression\n",
    "with open('logreg_model.pkl', 'rb') as f:\n",
    "    logreg_model = pickle.load(f)\n",
    "\n",
    "# Load TF-IDF Vectorizer\n",
    "with open('tfidf_vectorizer.pickle', 'rb') as f:\n",
    "    tfidf_vectorizer = pickle.load(f)\n",
    "\n",
    "# Load label encoder\n",
    "with open('label_encoder.pickle', 'rb') as f:\n",
    "    label_encoder = pickle.load(f)\n"
   ]
  },
  {
   "cell_type": "markdown",
   "id": "41961717-de9b-4e75-9af8-6c3737946e2c",
   "metadata": {},
   "source": [
    "### Function"
   ]
  },
  {
   "cell_type": "code",
   "execution_count": 7,
   "id": "16456fe8-755e-4e16-8c76-5bff3b026e79",
   "metadata": {},
   "outputs": [],
   "source": [
    "def predict_sentiment_lr(texts):     # Define function to predict sentiment from text input\n",
    "    tfidf = tfidf_vectorizer.transform(texts)     # Convert text to TF-IDF vectors\n",
    "    predictions = logreg_model.predict(tfidf)     # Predict sentiment using logistic regression model\n",
    "    return label_encoder.inverse_transform(predictions)     # Convert prediction labels back to original form"
   ]
  },
  {
   "cell_type": "markdown",
   "id": "23172e37-ebad-4187-8e5f-2db6e217a45b",
   "metadata": {},
   "source": [
    "### Try to predict new comment"
   ]
  },
  {
   "cell_type": "code",
   "execution_count": 8,
   "id": "a153a853-56d5-4804-8ba7-6ddea1b7e0f0",
   "metadata": {},
   "outputs": [
    {
     "name": "stdout",
     "output_type": "stream",
     "text": [
      "\"It is bad song\" → Prediksi: negative\n",
      "\"I think the company can promote izna more\" → Prediksi: neutral\n",
      "\"I didn't expect him to make a comeback with such a charming song\" → Prediksi: positive\n"
     ]
    }
   ],
   "source": [
    "# Input new comment\n",
    "sample_texts_forloreg = [\n",
    "    \"It is bad song\",\n",
    "    \"I think the company can promote izna more\",\n",
    "    \"I didn't expect him to make a comeback with such a charming song\"\n",
    "]\n",
    "\n",
    "# Predict new comment\n",
    "results = predict_sentiment_lr(sample_texts_forloreg)\n",
    "\n",
    "# Display the result\n",
    "for text, label in zip(sample_texts_forloreg, results):\n",
    "    print(f\"\\\"{text}\\\" → Prediksi: {label}\")"
   ]
  },
  {
   "cell_type": "markdown",
   "id": "1e601767-91e2-4a37-b8e9-fc9eb5f5d57a",
   "metadata": {},
   "source": [
    "# **4. Trial with Model 3: Deep Neural Network + TF-IDC + 80/20 split**"
   ]
  },
  {
   "cell_type": "markdown",
   "id": "2e984f76-13fa-4b50-8818-36ea8b696a66",
   "metadata": {},
   "source": [
    "### Load the Saved Model, Vectorizer, and Label Encoder"
   ]
  },
  {
   "cell_type": "code",
   "execution_count": 9,
   "id": "e9aa51a1-4b8d-4e41-8672-0717848bd53a",
   "metadata": {},
   "outputs": [
    {
     "name": "stderr",
     "output_type": "stream",
     "text": [
      "WARNING:absl:Compiled the loaded model, but the compiled metrics have yet to be built. `model.compile_metrics` will be empty until you train or evaluate the model.\n"
     ]
    },
    {
     "name": "stdout",
     "output_type": "stream",
     "text": [
      "==== Model loaded ====\n",
      "==== vectorizer loaded ====\n",
      "==== label encoder loaded ====\n"
     ]
    }
   ],
   "source": [
    "# Load Model \n",
    "model = load_model(\"dnn_model.h5\")\n",
    "print(\"==== Model loaded ====\")\n",
    "\n",
    "# Load vectorizer\n",
    "with open(\"tfidfdnn_vectorizer.pickle\", \"rb\") as file:\n",
    "    tfidf_dnn = pickle.load(file)\n",
    "print(\"==== vectorizer loaded ====\")\n",
    "\n",
    "# Load label encoder\n",
    "with open(\"label_encoder.pickle\", \"rb\") as file:\n",
    "    label_encoder = pickle.load(file)\n",
    "print(\"==== label encoder loaded ====\")"
   ]
  },
  {
   "cell_type": "markdown",
   "id": "709685a0-575b-4cd8-aba1-4996069c3750",
   "metadata": {},
   "source": [
    "### Function"
   ]
  },
  {
   "cell_type": "code",
   "execution_count": 10,
   "id": "1ae1993d-d8b6-4566-919c-65562f885c68",
   "metadata": {},
   "outputs": [],
   "source": [
    "def predict_sentiment_dnn(texts):        # Define function to predict sentiment\n",
    "    texts_tfidf = tfidf_dnn.transform(texts).toarray()       # Convert texts to TF-IDF vectors\n",
    "    preds = model.predict(texts_tfidf)       # Predict using trained DNN model\n",
    "    pred_classes = preds.argmax(axis=1)       # Get class with highest probability\n",
    "    return label_encoder.inverse_transform(pred_classes)  # Convert class index to label"
   ]
  },
  {
   "cell_type": "markdown",
   "id": "8691901d-e861-40fd-b973-a39c15f3707c",
   "metadata": {},
   "source": [
    "### Try to predict new comment"
   ]
  },
  {
   "cell_type": "code",
   "execution_count": 11,
   "id": "92557f1a-560d-457c-9d92-6ff5cb1751b1",
   "metadata": {},
   "outputs": [
    {
     "name": "stdout",
     "output_type": "stream",
     "text": [
      "\u001b[1m1/1\u001b[0m \u001b[32m━━━━━━━━━━━━━━━━━━━━\u001b[0m\u001b[37m\u001b[0m \u001b[1m0s\u001b[0m 83ms/step\n",
      "\"It is bad song\" → Prediksi: negative\n",
      "\"Not excited at all\" → Prediksi: neutral\n",
      "\"Woowww, I love it just from the first trial\" → Prediksi: positive\n"
     ]
    }
   ],
   "source": [
    "# Input new comment\n",
    "sample_texts_fordnn = [\n",
    "    \"It is bad song\",\n",
    "    \"Not excited at all\",\n",
    "    \"Woowww, I love it just from the first trial\"\n",
    "]\n",
    "\n",
    "# Predict new comment\n",
    "results = predict_sentiment_dnn(sample_texts_fordnn)\n",
    "\n",
    "# Display the result\n",
    "for text, label in zip(sample_texts_fordnn, results):\n",
    "    print(f\"\\\"{text}\\\" → Prediksi: {label}\")"
   ]
  },
  {
   "cell_type": "code",
   "execution_count": null,
   "id": "ed42ad31-b00f-46e5-be4d-7b8a8d3d1692",
   "metadata": {},
   "outputs": [],
   "source": []
  }
 ],
 "metadata": {
  "kernelspec": {
   "display_name": "Python 3 (ipykernel)",
   "language": "python",
   "name": "python3"
  },
  "language_info": {
   "codemirror_mode": {
    "name": "ipython",
    "version": 3
   },
   "file_extension": ".py",
   "mimetype": "text/x-python",
   "name": "python",
   "nbconvert_exporter": "python",
   "pygments_lexer": "ipython3",
   "version": "3.10.11"
  }
 },
 "nbformat": 4,
 "nbformat_minor": 5
}
